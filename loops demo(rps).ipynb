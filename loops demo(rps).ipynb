{
 "cells": [
  {
   "cell_type": "markdown",
   "metadata": {},
   "source": [
    "# for"
   ]
  },
  {
   "cell_type": "code",
   "execution_count": 1,
   "metadata": {},
   "outputs": [
    {
     "name": "stdout",
     "output_type": "stream",
     "text": [
      "7*0*1*9*6*9*7*5*1*3*"
     ]
    }
   ],
   "source": [
    "lst = [7,0,1,9,6,9,7,5,1,3]\n",
    "for i in lst:\n",
    "    print(i, end='*')"
   ]
  },
  {
   "cell_type": "code",
   "execution_count": 2,
   "metadata": {},
   "outputs": [
    {
     "name": "stdout",
     "output_type": "stream",
     "text": [
      "0 7 1 0 2 1 3 9 4 6 5 9 6 7 7 5 8 1 9 3 "
     ]
    }
   ],
   "source": [
    "for i,j in enumerate(lst):\n",
    "    print(i,j, end=\" \")"
   ]
  },
  {
   "cell_type": "code",
   "execution_count": 3,
   "metadata": {},
   "outputs": [
    {
     "name": "stdout",
     "output_type": "stream",
     "text": [
      "<enumerate object at 0x0000027716A42558>\n"
     ]
    }
   ],
   "source": [
    "idx =  enumerate(lst)\n",
    "print(idx)"
   ]
  },
  {
   "cell_type": "code",
   "execution_count": 4,
   "metadata": {},
   "outputs": [
    {
     "name": "stdout",
     "output_type": "stream",
     "text": [
      "\n",
      "*\n",
      "**\n",
      "***\n",
      "****\n",
      "***\n",
      "**\n",
      "*\n"
     ]
    }
   ],
   "source": [
    "n=4\n",
    "for i in range(n):\n",
    "    for j in range(i):\n",
    "        print(\"*\",end=\"\")\n",
    "    print(\"\")\n",
    "    \n",
    "for i in range(n,0,-1):\n",
    "    for j in range(i):\n",
    "        print(\"*\",end=\"\")\n",
    "    print(\"\")"
   ]
  },
  {
   "cell_type": "markdown",
   "metadata": {},
   "source": [
    "# function definition"
   ]
  },
  {
   "cell_type": "code",
   "execution_count": 5,
   "metadata": {},
   "outputs": [
    {
     "name": "stdout",
     "output_type": "stream",
     "text": [
      "loser\n",
      "<function game at 0x0000027716A43400>\n"
     ]
    }
   ],
   "source": [
    "import random\n",
    "\n",
    "def game(a,b):\n",
    "    if a>b :\n",
    "        print('loser')\n",
    "    elif a==b :\n",
    "        print('compromise')\n",
    "    else:\n",
    "        print('topper')\n",
    "     \n",
    "    return game\n",
    "\n",
    "x=game(12,2)\n",
    "print(x)"
   ]
  },
  {
   "cell_type": "markdown",
   "metadata": {},
   "source": [
    " # if else ladder"
   ]
  },
  {
   "cell_type": "code",
   "execution_count": 10,
   "metadata": {},
   "outputs": [
    {
     "name": "stdout",
     "output_type": "stream",
     "text": [
      " enter r for rock\n",
      " enter p for paper\n",
      " enter s for scisor\n",
      "s\n",
      "computer :p\n",
      " you :s\n",
      " U WIN\n"
     ]
    }
   ],
   "source": [
    "import random\n",
    "chs = random.randint(1,3)\n",
    "\n",
    "if chs == 1:\n",
    "    comp='r'\n",
    "elif chs == 2:\n",
    "    comp='p'\n",
    "elif chs == 3:\n",
    "    comp='s'\n",
    "\n",
    "player = input(' enter r for rock\\n enter p for paper\\n enter s for scisor\\n')\n",
    "\n",
    "if player == 'r' and comp == 'r':\n",
    "    print(\"computer :\" + comp +\"\\n\", \"you :\" + player +\"\\n\",'TIE')\n",
    "if player == 'r' and comp == 'p':\n",
    "    print(\"computer :\" + comp +\"\\n\", \"you :\" + player +\"\\n\",'U LOSE')\n",
    "if player == 'r' and comp == 's':\n",
    "    print(\"computer :\" + comp +\"\\n\", \"you :\" + player +\"\\n\",'U WIN')\n",
    "if player == 'p' and comp == 'r':\n",
    "    print(\"computer :\" + comp +\"\\n\", \"you :\" + player +\"\\n\",'U WIN')\n",
    "if player == 'p' and comp == 'p':\n",
    "    print(\"computer :\" + comp +\"\\n\", \"you :\" + player +\"\\n\",'TIE')\n",
    "if player == 'p' and comp == 's':\n",
    "    print(\"computer :\" + comp +\"\\n\", \"you :\" + player +\"\\n\",'U LOSE')\n",
    "if player == 's' and comp == 'r':\n",
    "    print(\"computer :\" + comp +\"\\n\", \"you :\" + player +\"\\n\",'U LOSE')\n",
    "if player == 's' and comp == 'p':\n",
    "    print(\"computer :\" + comp +\"\\n\", \"you :\" + player +\"\\n\",'U WIN')\n",
    "if player == 's' and comp == 's':\n",
    "    print(\"computer :\" + comp +\"\\n\", \"you :\" + player +\"\\n\",'TIE')\n",
    "\n"
   ]
  },
  {
   "cell_type": "markdown",
   "metadata": {},
   "source": [
    "# while"
   ]
  },
  {
   "cell_type": "code",
   "execution_count": 30,
   "metadata": {},
   "outputs": [
    {
     "name": "stdout",
     "output_type": "stream",
     "text": [
      "Guess the number between 1 to 10 :0\n",
      "Given up\n"
     ]
    }
   ],
   "source": [
    "a = random.randint(1,10)\n",
    "u=0\n",
    "while u!=a:\n",
    "    \n",
    "    u = int(input('Guess the number between 1 to 10 :'))\n",
    "    if u>0:\n",
    "        if u > a:\n",
    "            print(\"ur no is greater try again\")   \n",
    "        elif u<a:\n",
    "            print(\"ur no is lesser try again\")\n",
    "            \n",
    "    else:\n",
    "        print('Given up')\n",
    "        break\n",
    "else:\n",
    "    print('u win')"
   ]
  },
  {
   "cell_type": "code",
   "execution_count": 28,
   "metadata": {},
   "outputs": [
    {
     "data": {
      "text/plain": [
       "0.8288549064143286"
      ]
     },
     "execution_count": 28,
     "metadata": {},
     "output_type": "execute_result"
    }
   ],
   "source": [
    "random.random()"
   ]
  },
  {
   "cell_type": "code",
   "execution_count": null,
   "metadata": {},
   "outputs": [],
   "source": []
  }
 ],
 "metadata": {
  "kernelspec": {
   "display_name": "Python 3",
   "language": "python",
   "name": "python3"
  },
  "language_info": {
   "codemirror_mode": {
    "name": "ipython",
    "version": 3
   },
   "file_extension": ".py",
   "mimetype": "text/x-python",
   "name": "python",
   "nbconvert_exporter": "python",
   "pygments_lexer": "ipython3",
   "version": "3.7.1"
  }
 },
 "nbformat": 4,
 "nbformat_minor": 2
}
