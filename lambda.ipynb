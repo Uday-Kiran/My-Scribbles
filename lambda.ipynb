{
 "cells": [
  {
   "cell_type": "markdown",
   "metadata": {},
   "source": [
    "# lambda"
   ]
  },
  {
   "cell_type": "code",
   "execution_count": 1,
   "metadata": {},
   "outputs": [
    {
     "name": "stdout",
     "output_type": "stream",
     "text": [
      "15\n"
     ]
    }
   ],
   "source": [
    "a = lambda b : b+10\n",
    "print(a(5))"
   ]
  },
  {
   "cell_type": "markdown",
   "metadata": {},
   "source": [
    "# function inside a function using lambda"
   ]
  },
  {
   "cell_type": "code",
   "execution_count": 2,
   "metadata": {},
   "outputs": [
    {
     "name": "stdout",
     "output_type": "stream",
     "text": [
      "6\n"
     ]
    }
   ],
   "source": [
    "def func(b):\n",
    "    return lambda a : a*b\n",
    "\n",
    "print(func(2) (3))"
   ]
  },
  {
   "cell_type": "code",
   "execution_count": 6,
   "metadata": {},
   "outputs": [
    {
     "name": "stdout",
     "output_type": "stream",
     "text": [
      "[3.141592653589793, 28.274333882308138, 78.53981633974483, 153.93804002589985, 254.46900494077323, 452.3893421169302]\n"
     ]
    }
   ],
   "source": [
    "import math\n",
    "def area(r):\n",
    "    return math.pi*(r**2)\n",
    "\n",
    "radii = [1,3,5,7,9,12]\n",
    "\n",
    "areas =[]\n",
    "for r in radii:\n",
    "    a = area(r)\n",
    "    areas.append(a)\n",
    "print(areas)"
   ]
  },
  {
   "cell_type": "code",
   "execution_count": 8,
   "metadata": {},
   "outputs": [
    {
     "data": {
      "text/plain": [
       "<map at 0x22b11c6a160>"
      ]
     },
     "execution_count": 8,
     "metadata": {},
     "output_type": "execute_result"
    }
   ],
   "source": [
    "map(area, radii) #map takes two arguments, i. function 2. list of arguments to the function"
   ]
  },
  {
   "cell_type": "code",
   "execution_count": 9,
   "metadata": {},
   "outputs": [
    {
     "data": {
      "text/plain": [
       "[3.141592653589793,\n",
       " 28.274333882308138,\n",
       " 78.53981633974483,\n",
       " 153.93804002589985,\n",
       " 254.46900494077323,\n",
       " 452.3893421169302]"
      ]
     },
     "execution_count": 9,
     "metadata": {},
     "output_type": "execute_result"
    }
   ],
   "source": [
    "list(map(area, radii))"
   ]
  },
  {
   "cell_type": "code",
   "execution_count": 15,
   "metadata": {},
   "outputs": [
    {
     "data": {
      "text/plain": [
       "[('Bengaluru', 63.0),\n",
       " ('Mumbai', 54.0),\n",
       " ('Chennai', 81.0),\n",
       " ('Delhi', 72.0),\n",
       " ('Kolkata', 57.6),\n",
       " ('Hyderabad', 43.2)]"
      ]
     },
     "execution_count": 15,
     "metadata": {},
     "output_type": "execute_result"
    }
   ],
   "source": [
    "temp = [('Bengaluru',35),('Mumbai',30),('Chennai',45),('Delhi',40),('Kolkata',32),('Hyderabad',24)]\n",
    "c_to_f = lambda data : (data[0], 9/5 * data[1])\n",
    "list(map(c_to_f,temp))"
   ]
  },
  {
   "cell_type": "code",
   "execution_count": 25,
   "metadata": {},
   "outputs": [
    {
     "data": {
      "text/plain": [
       "5"
      ]
     },
     "execution_count": 25,
     "metadata": {},
     "output_type": "execute_result"
    }
   ],
   "source": [
    "import statistics\n",
    "#a = lambda c : statistic.mean(c)\n",
    "statistics.mean(d)\n",
    "#d= [1,2,3,4,5,6,7,8,9]\n",
    "#list[map(a,d)]\n",
    "\n"
   ]
  },
  {
   "cell_type": "markdown",
   "metadata": {},
   "source": [
    "# filter"
   ]
  },
  {
   "cell_type": "code",
   "execution_count": 30,
   "metadata": {},
   "outputs": [
    {
     "data": {
      "text/plain": [
       "[1.7320508075688772,\n",
       " 3.0,\n",
       " 2.0,\n",
       " 2.23606797749979,\n",
       " 2.449489742783178,\n",
       " 2.8284271247461903,\n",
       " 3.4641016151377544,\n",
       " 0.0,\n",
       " 2.0]"
      ]
     },
     "execution_count": 30,
     "metadata": {},
     "output_type": "execute_result"
    }
   ],
   "source": [
    "a = lambda b : math.sqrt(b)\n",
    "d = [3,9,4,5,6,8,12,0,4]\n",
    "list(map(a,d))"
   ]
  },
  {
   "cell_type": "code",
   "execution_count": 31,
   "metadata": {},
   "outputs": [
    {
     "name": "stdout",
     "output_type": "stream",
     "text": [
      "5.666666666666667\n"
     ]
    },
    {
     "data": {
      "text/plain": [
       "[9, 6, 8, 12]"
      ]
     },
     "execution_count": 31,
     "metadata": {},
     "output_type": "execute_result"
    }
   ],
   "source": [
    "avg = statistics.mean(d)\n",
    "print(avg)\n",
    "filter(lambda x : x>avg, d) \n",
    "#q=filter(lambda x : x>avg, d) \n",
    "#filter(q, d) \n",
    "list(filter(lambda x : x>avg, d))"
   ]
  },
  {
   "cell_type": "code",
   "execution_count": 32,
   "metadata": {},
   "outputs": [
    {
     "data": {
      "text/plain": [
       "['a', 'asdsd', 'asd', 'ds', 'asdas', 'werq']"
      ]
     },
     "execution_count": 32,
     "metadata": {},
     "output_type": "execute_result"
    }
   ],
   "source": [
    "lst=['a','asdsd','asd','ds','','asdas','','werq']\n",
    "list(filter(None,lst))"
   ]
  },
  {
   "cell_type": "markdown",
   "metadata": {},
   "source": [
    "# reduce"
   ]
  },
  {
   "cell_type": "code",
   "execution_count": 33,
   "metadata": {},
   "outputs": [
    {
     "data": {
      "text/plain": [
       "45"
      ]
     },
     "execution_count": 33,
     "metadata": {},
     "output_type": "execute_result"
    }
   ],
   "source": [
    "from functools import reduce\n",
    "val=[1,2,3,4,5,6,7,8,9]\n",
    "mul = lambda x,y:x+y\n",
    "reduce(mul,val)"
   ]
  },
  {
   "cell_type": "code",
   "execution_count": null,
   "metadata": {},
   "outputs": [],
   "source": []
  }
 ],
 "metadata": {
  "kernelspec": {
   "display_name": "Python 3",
   "language": "python",
   "name": "python3"
  },
  "language_info": {
   "codemirror_mode": {
    "name": "ipython",
    "version": 3
   },
   "file_extension": ".py",
   "mimetype": "text/x-python",
   "name": "python",
   "nbconvert_exporter": "python",
   "pygments_lexer": "ipython3",
   "version": "3.7.1"
  }
 },
 "nbformat": 4,
 "nbformat_minor": 2
}
