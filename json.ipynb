{
 "cells": [
  {
   "cell_type": "code",
   "execution_count": 7,
   "metadata": {},
   "outputs": [],
   "source": [
    "import json\n",
    "json_file = open('widget.txt','r',encoding='utf-8')"
   ]
  },
  {
   "cell_type": "code",
   "execution_count": 8,
   "metadata": {},
   "outputs": [],
   "source": [
    "exmp = json.load(json_file)\n",
    "json_file.close()"
   ]
  },
  {
   "cell_type": "code",
   "execution_count": 9,
   "metadata": {
    "scrolled": false
   },
   "outputs": [
    {
     "data": {
      "text/plain": [
       "{'widget': {'debug': 'on',\n",
       "  'window': {'title': 'Sample Konfabulator Widget',\n",
       "   'name': 'main_window',\n",
       "   'width': 500,\n",
       "   'height': 500},\n",
       "  'image': {'src': 'Images/Sun.png',\n",
       "   'name': 'sun1',\n",
       "   'hOffset': 250,\n",
       "   'vOffset': 250,\n",
       "   'alignment': 'center'},\n",
       "  'text': {'data': 'Click Here',\n",
       "   'size': 36,\n",
       "   'style': 'bold',\n",
       "   'name': 'text1',\n",
       "   'hOffset': 250,\n",
       "   'vOffset': 100,\n",
       "   'alignment': 'center',\n",
       "   'onMouseUp': 'sun1.opacity = (sun1.opacity / 100) * 90;'}}}"
      ]
     },
     "execution_count": 9,
     "metadata": {},
     "output_type": "execute_result"
    }
   ],
   "source": [
    "exmp"
   ]
  },
  {
   "cell_type": "code",
   "execution_count": null,
   "metadata": {},
   "outputs": [],
   "source": [
    "exmp['widget']"
   ]
  },
  {
   "cell_type": "code",
   "execution_count": null,
   "metadata": {},
   "outputs": [],
   "source": [
    "exmp['widget']['window']"
   ]
  },
  {
   "cell_type": "code",
   "execution_count": null,
   "metadata": {
    "scrolled": true
   },
   "outputs": [],
   "source": [
    "exmp['widget']['window']['title']"
   ]
  },
  {
   "cell_type": "code",
   "execution_count": null,
   "metadata": {},
   "outputs": [],
   "source": [
    "for i in exmp['widget']:\n",
    "    print(i)"
   ]
  },
  {
   "cell_type": "code",
   "execution_count": null,
   "metadata": {},
   "outputs": [],
   "source": [
    "del exmp['widget']['window']['height']"
   ]
  },
  {
   "cell_type": "code",
   "execution_count": null,
   "metadata": {},
   "outputs": [],
   "source": [
    "exmp['widget']['window']['title'] = 'KGF'"
   ]
  },
  {
   "cell_type": "code",
   "execution_count": null,
   "metadata": {},
   "outputs": [],
   "source": [
    "exmp"
   ]
  },
  {
   "cell_type": "markdown",
   "metadata": {},
   "source": [
    "after changing data it can be loaded/dumped/saved into new file as below"
   ]
  },
  {
   "cell_type": "code",
   "execution_count": null,
   "metadata": {},
   "outputs": [],
   "source": [
    "with open('exmp_modified','w') as fl:\n",
    "    json.dump(exmp,fl)\n",
    "    #exmp_modified.close()\n",
    "    #json.dumps(exmp)"
   ]
  },
  {
   "cell_type": "code",
   "execution_count": null,
   "metadata": {},
   "outputs": [],
   "source": []
  },
  {
   "cell_type": "code",
   "execution_count": null,
   "metadata": {},
   "outputs": [],
   "source": []
  },
  {
   "cell_type": "code",
   "execution_count": 10,
   "metadata": {},
   "outputs": [
    {
     "data": {
      "text/plain": [
       "{'title': 'KGF', 'Actors': ['Yash', 'shetty', 'suri'], 'Director': 'Prashanth'}"
      ]
     },
     "execution_count": 10,
     "metadata": {},
     "output_type": "execute_result"
    }
   ],
   "source": [
    "movie = {}\n",
    "movie['title'] = \"KGF\"\n",
    "movie['Actors'] = ['Yash','shetty','suri']\n",
    "movie['Director'] = 'Prashanth'\n",
    "movie"
   ]
  },
  {
   "cell_type": "code",
   "execution_count": 11,
   "metadata": {},
   "outputs": [],
   "source": [
    "file = open('movie.txt','w',encoding = 'utf-8')\n",
    "json.dump(movie,file)"
   ]
  },
  {
   "cell_type": "code",
   "execution_count": 12,
   "metadata": {},
   "outputs": [],
   "source": [
    "file.close()"
   ]
  },
  {
   "cell_type": "code",
   "execution_count": null,
   "metadata": {},
   "outputs": [],
   "source": [
    "link = '''\n",
    "{\n",
    "  \"links\": {\n",
    "    \"self\": \"http://example.com/articles\",\n",
    "    \"next\": \"http://example.com/articles?page[offset]=2\",\n",
    "    \"last\": \"http://example.com/articles?page[offset]=10\"\n",
    "  },\n",
    "  \"data\": [{\n",
    "    \"type\": \"articles\",\n",
    "    \"id\": \"1\",\n",
    "    \"attributes\": {\n",
    "      \"title\": \"JSON:API paints my bikeshed!\"\n",
    "    },\n",
    "    \"relationships\": {\n",
    "      \"author\": {\n",
    "        \"links\": {\n",
    "          \"self\": \"http://example.com/articles/1/relationships/author\",\n",
    "          \"related\": \"http://example.com/articles/1/author\"\n",
    "        },\n",
    "        \"data\": { \"type\": \"people\", \"id\": \"9\" }\n",
    "      },\n",
    "      \"comments\": {\n",
    "        \"links\": {\n",
    "          \"self\": \"http://example.com/articles/1/relationships/comments\",\n",
    "          \"related\": \"http://example.com/articles/1/comments\"\n",
    "        },\n",
    "        \"data\": [\n",
    "          { \"type\": \"comments\", \"id\": \"5\" },\n",
    "          { \"type\": \"comments\", \"id\": \"12\" }\n",
    "        ]\n",
    "      }\n",
    "    },\n",
    "    \"links\": {\n",
    "      \"self\": \"http://example.com/articles/1\"\n",
    "    }\n",
    "  }],\n",
    "  \"included\": [{\n",
    "    \"type\": \"people\",\n",
    "    \"id\": \"9\",\n",
    "    \"attributes\": {\n",
    "      \"firstName\": \"Dan\",\n",
    "      \"lastName\": \"Gebhardt\",\n",
    "      \"twitter\": \"dgeb\"\n",
    "    },\n",
    "    \"links\": {\n",
    "      \"self\": \"http://example.com/people/9\"\n",
    "    }\n",
    "  }, {\n",
    "    \"type\": \"comments\",\n",
    "    \"id\": \"5\",\n",
    "    \"attributes\": {\n",
    "      \"body\": \"First!\"\n",
    "    },\n",
    "    \"relationships\": {\n",
    "      \"author\": {\n",
    "        \"data\": { \"type\": \"people\", \"id\": \"2\" }\n",
    "      }\n",
    "    },\n",
    "    \"links\": {\n",
    "      \"self\": \"http://example.com/comments/5\"\n",
    "    }\n",
    "  }, {\n",
    "    \"type\": \"comments\",\n",
    "    \"id\": \"12\",\n",
    "    \"attributes\": {\n",
    "      \"body\": \"I like XML better\"\n",
    "    },\n",
    "    \"relationships\": {\n",
    "      \"author\": {\n",
    "        \"data\": { \"type\": \"people\", \"id\": \"9\" }\n",
    "      }\n",
    "    },\n",
    "    \"links\": {\n",
    "      \"self\": \"http://example.com/comments/12\"\n",
    "    }\n",
    "  }]\n",
    "}'''"
   ]
  },
  {
   "cell_type": "code",
   "execution_count": null,
   "metadata": {},
   "outputs": [],
   "source": [
    "import json"
   ]
  },
  {
   "cell_type": "code",
   "execution_count": null,
   "metadata": {},
   "outputs": [],
   "source": [
    "data = json.loads(link)"
   ]
  },
  {
   "cell_type": "code",
   "execution_count": null,
   "metadata": {},
   "outputs": [],
   "source": [
    "data"
   ]
  },
  {
   "cell_type": "code",
   "execution_count": null,
   "metadata": {
    "scrolled": false
   },
   "outputs": [],
   "source": [
    "for i in data:\n",
    "    print(i + ':(level 1)')\n",
    "    for j in data[i]:\n",
    "        print(j )\n",
    "        #for k in data[i][j]:\n",
    "        #    print(k)"
   ]
  },
  {
   "cell_type": "code",
   "execution_count": null,
   "metadata": {},
   "outputs": [],
   "source": []
  }
 ],
 "metadata": {
  "kernelspec": {
   "display_name": "Python 3",
   "language": "python",
   "name": "python3"
  },
  "language_info": {
   "codemirror_mode": {
    "name": "ipython",
    "version": 3
   },
   "file_extension": ".py",
   "mimetype": "text/x-python",
   "name": "python",
   "nbconvert_exporter": "python",
   "pygments_lexer": "ipython3",
   "version": "3.7.1"
  }
 },
 "nbformat": 4,
 "nbformat_minor": 2
}
