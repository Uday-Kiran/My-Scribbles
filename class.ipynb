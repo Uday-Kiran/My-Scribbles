{
 "cells": [
  {
   "cell_type": "code",
   "execution_count": 4,
   "metadata": {},
   "outputs": [
    {
     "data": {
      "text/plain": [
       "'uday kiran'"
      ]
     },
     "execution_count": 4,
     "metadata": {},
     "output_type": "execute_result"
    }
   ],
   "source": [
    "class student:\n",
    "    def __init__(self,fn,ln,age,s):\n",
    "        self.fn = fn\n",
    "        self.ln = ln\n",
    "        self.age = age\n",
    "        self.s = s\n",
    "        self.email = (fn + ln).lower() + \"@college.com\"\n",
    "    \n",
    "    def full_name(self):\n",
    "        return '{} {}'.format(self.fn, self.ln)\n",
    "\n",
    "s1 = student(\"uday\", \"kiran\", 25, \"M\")"
   ]
  },
  {
   "cell_type": "code",
   "execution_count": 6,
   "metadata": {},
   "outputs": [
    {
     "data": {
      "text/plain": [
       "'udaykiran@college.com'"
      ]
     },
     "execution_count": 6,
     "metadata": {},
     "output_type": "execute_result"
    }
   ],
   "source": [
    "s1.email    "
   ]
  },
  {
   "cell_type": "code",
   "execution_count": 7,
   "metadata": {},
   "outputs": [
    {
     "data": {
      "text/plain": [
       "'uday kiran'"
      ]
     },
     "execution_count": 7,
     "metadata": {},
     "output_type": "execute_result"
    }
   ],
   "source": [
    "s1.full_name()"
   ]
  },
  {
   "cell_type": "markdown",
   "metadata": {},
   "source": [
    "# inheritance"
   ]
  },
  {
   "cell_type": "code",
   "execution_count": 8,
   "metadata": {},
   "outputs": [],
   "source": [
    "class Bird:\n",
    "    def __init__(self):\n",
    "        print('Bird is ready')\n",
    "    def who(self):\n",
    "        print('This is bird')\n",
    "    def swim(self):\n",
    "        print('can swim')\n",
    "    #self instance is mandatory\n",
    "    \n",
    "class Penguin(Bird):\n",
    "    def __init__(self):\n",
    "        super().__init__()\n",
    "        print('Penguin is ready')\n",
    "    def who(self):\n",
    "        print('Penguin ')\n",
    "    def run(self):\n",
    "        print('run faster')\n",
    "\n"
   ]
  },
  {
   "cell_type": "markdown",
   "metadata": {},
   "source": [
    "# encpasulation"
   ]
  },
  {
   "cell_type": "code",
   "execution_count": 23,
   "metadata": {},
   "outputs": [
    {
     "name": "stdout",
     "output_type": "stream",
     "text": [
      "selling price : 750\n",
      "selling price : 1000\n",
      "selling price : 1000\n"
     ]
    }
   ],
   "source": [
    "class Computer:\n",
    "    def __init__(self):\n",
    "        self.maxprice = 750  #not private\n",
    "    def sell(self):\n",
    "        print('selling price : {}'.format(self.maxprice))\n",
    "    def setmax(self,price):\n",
    "        self.__maxprice = price  #private \n",
    "        \n",
    "c1 = Computer()\n",
    "c1.sell()\n",
    "c1.maxprice = 1000\n",
    "c1.sell()\n",
    "c1.setmax(1500)\n",
    "c1.sell()"
   ]
  },
  {
   "cell_type": "code",
   "execution_count": 27,
   "metadata": {},
   "outputs": [
    {
     "name": "stdout",
     "output_type": "stream",
     "text": [
      "selling price : 750\n",
      "selling price : 750\n",
      "selling price : 1500\n"
     ]
    }
   ],
   "source": [
    "class Computer:\n",
    "    def __init__(self):\n",
    "        self.__maxprice = 750  # private\n",
    "    def sell(self):\n",
    "        print('selling price : {}'.format(self.__maxprice))\n",
    "    def setmax(self,price):\n",
    "        self.__maxprice = price  #private \n",
    "        \n",
    "c1 = Computer()\n",
    "c1.sell()\n",
    "c1.__maxprice = 1000\n",
    "c1.sell()\n",
    "c1.setmax(1500)\n",
    "c1.sell()"
   ]
  },
  {
   "cell_type": "code",
   "execution_count": null,
   "metadata": {},
   "outputs": [],
   "source": []
  },
  {
   "cell_type": "code",
   "execution_count": null,
   "metadata": {},
   "outputs": [],
   "source": []
  }
 ],
 "metadata": {
  "kernelspec": {
   "display_name": "Python 3",
   "language": "python",
   "name": "python3"
  },
  "language_info": {
   "codemirror_mode": {
    "name": "ipython",
    "version": 3
   },
   "file_extension": ".py",
   "mimetype": "text/x-python",
   "name": "python",
   "nbconvert_exporter": "python",
   "pygments_lexer": "ipython3",
   "version": "3.7.1"
  }
 },
 "nbformat": 4,
 "nbformat_minor": 2
}
