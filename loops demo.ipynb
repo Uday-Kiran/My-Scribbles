{
 "cells": [
  {
   "cell_type": "markdown",
   "metadata": {},
   "source": [
    "# for"
   ]
  },
  {
   "cell_type": "code",
   "execution_count": null,
   "metadata": {},
   "outputs": [],
   "source": [
    "lst = [7,0,1,9,6,9,7,5,1,3]\n",
    "for i in lst:\n",
    "    print(i, end='*')"
   ]
  },
  {
   "cell_type": "code",
   "execution_count": null,
   "metadata": {},
   "outputs": [],
   "source": [
    "for i,j in enumerate(lst):\n",
    "    print(i,j, end=\" \")"
   ]
  },
  {
   "cell_type": "code",
   "execution_count": null,
   "metadata": {},
   "outputs": [],
   "source": [
    "idx =  enumerate(lst)\n",
    "print(idx)"
   ]
  },
  {
   "cell_type": "code",
   "execution_count": null,
   "metadata": {},
   "outputs": [],
   "source": [
    "n=4\n",
    "for i in range(n):\n",
    "    for j in range(i):\n",
    "        print(\"*\",end=\"\")\n",
    "    print(\"\")\n",
    "    \n",
    "for i in range(n,0,-1):\n",
    "    for j in range(i):\n",
    "        print(\"*\",end=\"\")\n",
    "    print(\"\")"
   ]
  },
  {
   "cell_type": "markdown",
   "metadata": {},
   "source": [
    "# function definition"
   ]
  },
  {
   "cell_type": "code",
   "execution_count": null,
   "metadata": {},
   "outputs": [],
   "source": [
    "import random\n",
    "\n",
    "def game(a,b):\n",
    "    if a>b :\n",
    "        print('loser')\n",
    "    elif a==b :\n",
    "        print('compromise')\n",
    "    else:\n",
    "        print('topper')\n",
    "     \n",
    "    return game\n",
    "\n",
    "x=game(12,2)\n",
    "print(x)"
   ]
  },
  {
   "cell_type": "markdown",
   "metadata": {},
   "source": [
    " # if else ladder"
   ]
  },
  {
   "cell_type": "code",
   "execution_count": 1,
   "metadata": {},
   "outputs": [
    {
     "name": "stdout",
     "output_type": "stream",
     "text": [
      " enter r for rock\n",
      " enter p for paper\n",
      " enter s for scisor\n",
      "r\n",
      "computer :r\n",
      " you :r\n",
      " TIE\n"
     ]
    }
   ],
   "source": [
    "import random\n",
    "chs = random.randint(1,3)\n",
    "\n",
    "if chs == 1:\n",
    "    comp='r'\n",
    "elif chs == 2:\n",
    "    comp='p'\n",
    "elif chs == 3:\n",
    "    comp='s'\n",
    "\n",
    "player = input(' enter r for rock\\n enter p for paper\\n enter s for scisor\\n')\n",
    "\n",
    "if (player == 'r' and comp == 'r') or (player == 'p' and comp == 'p') or (player == 's' and comp == 's'):\n",
    "    print(\"computer :\" + comp +\"\\n\", \"you :\" + player +\"\\n\",'TIE')\n",
    "if (player == 'r' and comp == 'p') or (player == 'p' and comp == 's') or (player == 's' and comp == 'r'):\n",
    "    print(\"computer :\" + comp +\"\\n\", \"you :\" + player +\"\\n\",'U LOSE')\n",
    "if (player == 'r' and comp == 's') or (player == 'p' and comp == 'r') or (player == 's' and comp == 'p'):\n",
    "    print(\"computer :\" + comp +\"\\n\", \"you :\" + player +\"\\n\",'U WIN')\n",
    "\n"
   ]
  },
  {
   "cell_type": "markdown",
   "metadata": {},
   "source": [
    "# while"
   ]
  },
  {
   "cell_type": "code",
   "execution_count": 2,
   "metadata": {},
   "outputs": [
    {
     "name": "stdout",
     "output_type": "stream",
     "text": [
      "Guess the number between 1 to 10 :5\n",
      "ur no is lesser try again\n",
      "Guess the number between 1 to 10 :7\n",
      "ur no is lesser try again\n",
      "Guess the number between 1 to 10 :8\n",
      "u win\n"
     ]
    }
   ],
   "source": [
    "a = random.randint(1,10)\n",
    "u=0\n",
    "while u!=a:\n",
    "    \n",
    "    u = int(input('Guess the number between 1 to 10 :'))\n",
    "    if u>0:\n",
    "        if u > a:\n",
    "            print(\"ur no is greater try again\")   \n",
    "        elif u<a:\n",
    "            print(\"ur no is lesser try again\")\n",
    "            \n",
    "    else:\n",
    "        print('Given up')\n",
    "        break\n",
    "else:\n",
    "    print('u win')"
   ]
  },
  {
   "cell_type": "code",
   "execution_count": null,
   "metadata": {},
   "outputs": [],
   "source": [
    "random.random()"
   ]
  },
  {
   "cell_type": "code",
   "execution_count": null,
   "metadata": {},
   "outputs": [],
   "source": []
  }
 ],
 "metadata": {
  "kernelspec": {
   "display_name": "Python 3",
   "language": "python",
   "name": "python3"
  },
  "language_info": {
   "codemirror_mode": {
    "name": "ipython",
    "version": 3
   },
   "file_extension": ".py",
   "mimetype": "text/x-python",
   "name": "python",
   "nbconvert_exporter": "python",
   "pygments_lexer": "ipython3",
   "version": "3.7.1"
  }
 },
 "nbformat": 4,
 "nbformat_minor": 2
}
